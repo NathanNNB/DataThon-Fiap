{
 "cells": [
  {
   "cell_type": "code",
   "execution_count": 1,
   "id": "59422a4b",
   "metadata": {},
   "outputs": [
    {
     "name": "stderr",
     "output_type": "stream",
     "text": [
      "c:\\Users\\willb\\Documents\\Projetos\\DataThon-Fiap\\venv\\lib\\site-packages\\tqdm\\auto.py:21: TqdmWarning: IProgress not found. Please update jupyter and ipywidgets. See https://ipywidgets.readthedocs.io/en/stable/user_install.html\n",
      "  from .autonotebook import tqdm as notebook_tqdm\n",
      "[nltk_data] Downloading package stopwords to\n",
      "[nltk_data]     C:\\Users\\willb\\AppData\\Roaming\\nltk_data...\n",
      "[nltk_data]   Package stopwords is already up-to-date!\n",
      "[nltk_data] Downloading package punkt_tab to\n",
      "[nltk_data]     C:\\Users\\willb\\AppData\\Roaming\\nltk_data...\n",
      "[nltk_data]   Package punkt_tab is already up-to-date!\n"
     ]
    }
   ],
   "source": [
    "from call_model import call_model\n",
    "import pandas as pd\n",
    "import json "
   ]
  },
  {
   "cell_type": "code",
   "execution_count": 2,
   "id": "ce942cf6",
   "metadata": {},
   "outputs": [],
   "source": [
    "text = {\n",
    "  \"curriculo\": \"Profissional graduado em Sistemas de Informação, com mais de 8 anos de experiência no setor de tecnologia. Atuou em projetos de grande porte em bancos e empresas de varejo, desenvolvendo soluções de análise de dados, integração de sistemas e automação de processos. Possui forte conhecimento em Python, SQL, Big Data, Power BI e metodologias ágeis, além de experiência em liderar times multidisciplinares. Demonstra capacidade de comunicação clara, foco em resultados e habilidade em transformar necessidades de negócio em soluções técnicas eficientes, escaláveis e seguras.\",\n",
    "  \"job_description\": \"Estamos em busca de um Analista de Dados Sênior para integrar nosso time de Inteligência de Negócios. O profissional será responsável por estruturar e analisar grandes volumes de dados, criar dashboards estratégicos e apoiar a tomada de decisão em diferentes áreas da empresa. É necessário domínio em Python, SQL e ferramentas de visualização (como Power BI ou Tableau). Experiência com Big Data e conhecimento em ambientes de cloud (GCP, AWS ou Azure) serão diferenciais. Além das habilidades técnicas, buscamos alguém com boa comunicação, capacidade analítica, visão de negócio e espírito colaborativo para atuar em um ambiente ágil e inovador.\"\n",
    "}"
   ]
  },
  {
   "cell_type": "code",
   "execution_count": 3,
   "id": "e6d1e504",
   "metadata": {},
   "outputs": [],
   "source": [
    "result, mensagem = call_model(json.dumps(text))"
   ]
  },
  {
   "cell_type": "code",
   "execution_count": 4,
   "id": "d2229555",
   "metadata": {},
   "outputs": [
    {
     "data": {
      "text/plain": [
       "{'candidateSummary': 'Analista de Dados: Experiência em análise de grandes volumes de dados, Python, SQL, Big Data, Power BI e ferramentas de visualização. Forte capacidade de transformar necessidades de negócios em soluções técnicas eficientes.',\n",
       " 'jobSummary': 'busca analista dados senior integrar time inteligencia negócios profissional sera responsavel estruturar analisar grandes volumes criar dashboards estrategicos apoiar tomada decisao diferentes areas empresa necessário domínio python sql ferramentas visualizacao power bi tableau experiência big data conhecimento ambientes cloud gcp aws azure serao diferenciais alem habilidades tecnicas buscamos alguem boa comunicacao capacidade analitica visao negocio espirito colaborativo atuar ambiente agil inovador',\n",
       " 'questions': ['Em qual área da empresa você pretende se concentrar com sua atuação?',\n",
       "  'Descreva um projeto de análise de dados que você realizou, destacando o impacto nas decisões da empresa.',\n",
       "  'Como você lida com a comunicação de resultados para diferentes públicos (técnicos e não técnicos)?',\n",
       "  'Compartilhe um exemplo de como você utilizou Python ou SQL para resolver um problema complexo.',\n",
       "  'Qual a sua experiência com ferramentas de visualização de dados como Power BI e Tableau? Dê exemplos de dashboards criados.'],\n",
       " 'compatibility_rate': '0.7288258671760559'}"
      ]
     },
     "execution_count": 4,
     "metadata": {},
     "output_type": "execute_result"
    }
   ],
   "source": [
    "result"
   ]
  },
  {
   "cell_type": "code",
   "execution_count": 5,
   "id": "54e28266",
   "metadata": {},
   "outputs": [
    {
     "data": {
      "text/plain": [
       "'Model output is missing required keys: taxa_de_compatibilidade, resumo_vaga, perguntas_entrevista, resumo_candidato'"
      ]
     },
     "execution_count": 5,
     "metadata": {},
     "output_type": "execute_result"
    }
   ],
   "source": [
    "mensagem"
   ]
  },
  {
   "cell_type": "code",
   "execution_count": 6,
   "id": "d3f64edf",
   "metadata": {},
   "outputs": [],
   "source": [
    "text = {\n",
    "  \"curriculo\": \"Pescador profissional com 12 anos de experiência em pesca artesanal e comercial. Atuação em embarcações de médio porte, com domínio em técnicas de pesca de rede, anzol e espinhel. Experiência na conservação e manuseio de pescado, manutenção de equipamentos de navegação e motores de popa. Conhecimento prático em leitura de marés, correntes marítimas e normas de segurança no mar. Participação em programas de pesca sustentável e respeito às legislações ambientais. Boa capacidade física, trabalho em equipe e adaptação a longas jornadas em alto-mar.\",\n",
    "  \"job_description\": \"Estamos contratando um Analista de RH para estruturar pipelines de ETL, otimizar consultas SQL e gerar dashboards no Power BI. Necessário conhecimento em Python, estatística e modelagem de dados. Desejável experiência em ambientes de Big Data e nuvem (GCP ou AWS).\"\n",
    "}"
   ]
  },
  {
   "cell_type": "code",
   "execution_count": 7,
   "id": "be88f9b8",
   "metadata": {},
   "outputs": [],
   "source": [
    "result, mensagem = call_model(json.dumps(text))"
   ]
  },
  {
   "cell_type": "code",
   "execution_count": 8,
   "id": "736c3651",
   "metadata": {},
   "outputs": [
    {
     "data": {
      "text/plain": [
       "{'candidateSummary': 'Pesca artesanal com experiência em embarcações, domínio de técnicas de pesca e conhecimento em redes, anzóis, conservação de pescado e navegação. Habilidade para trabalhar em equipe, adaptação a longas jornadas e trabalho em ambiente marítimo.',\n",
       " 'jobSummary': 'contratando analista rh estruturar pipelines etl otimizar consultas sql gerar dashboards power bi necessário conhecimento python estatistica modelagem dados desejavel experiencia ambientes big data nuvem gcp aws',\n",
       " 'questions': ['Pergunta 1: Descreva uma situação em que você precisou adaptar suas técnicas de pesca para superar um desafio em um ambiente marítimo. Quais foram os passos que você seguiu?',\n",
       "  'Pergunta 2: Qual experiência você tem em usar ferramentas de ETL (Extract, Transform, Load) e como você otimizou consultas SQL para melhorar a performance de um processo de dados?',\n",
       "  'Pergunta 3: Como você aborda a modelagem de dados e a geração de dashboards Power BI, considerando a necessidade de utilizar Python e ferramentas de nuvem (GCP/AWS)?',\n",
       "  'Pergunta 4: Por que você considera a experiência com ambientes Big Data e nuvem (GCP/AWS) essencial para este cargo?',\n",
       "  'Pergunta 5: Descreva uma situação em que você teve que trabalhar em equipe para lidar com um desafio complexo em um ambiente de pesca, e como você contribuiu para o sucesso do projeto?'],\n",
       " 'compatibility_rate': '0.28228533267974854'}"
      ]
     },
     "execution_count": 8,
     "metadata": {},
     "output_type": "execute_result"
    }
   ],
   "source": [
    "result"
   ]
  },
  {
   "cell_type": "code",
   "execution_count": 31,
   "id": "14c12bfd",
   "metadata": {},
   "outputs": [
    {
     "data": {
      "text/plain": [
       "'Model output is missing required keys: perguntas_entrevista, resumo_candidato, taxa_de_compatibilidade, resumo_vaga'"
      ]
     },
     "execution_count": 31,
     "metadata": {},
     "output_type": "execute_result"
    }
   ],
   "source": [
    "mensagem"
   ]
  },
  {
   "cell_type": "code",
   "execution_count": 9,
   "id": "a5dee988",
   "metadata": {},
   "outputs": [],
   "source": [
    "text = {\n",
    "  \"curriculo\": \"Pescador profissional com 12 anos de experiência em pesca artesanal e comercial. Atuação em embarcações de médio porte, com domínio em técnicas de pesca de rede, anzol e espinhel. Experiência na conservação e manuseio de pescado, manutenção de equipamentos de navegação e motores de popa. Conhecimento prático em leitura de marés, correntes marítimas e normas de segurança no mar. Participação em programas de pesca sustentável e respeito às legislações ambientais. Boa capacidade física, trabalho em equipe e adaptação a longas jornadas em alto-mar.\",\n",
    "  \"job_description\": \"Empresa de alimentos busca Pescador Profissional para atuar em operações de pesca em alto-mar, contribuindo para a captura, seleção e conservação de pescado. Necessário conhecimento em técnicas de pesca sustentável, manuseio de redes e equipamentos de navegação. Desejável experiência com manutenção básica de embarcações e motores.\"\n",
    "}\n"
   ]
  },
  {
   "cell_type": "code",
   "execution_count": 10,
   "id": "d6a6420f",
   "metadata": {},
   "outputs": [],
   "source": [
    "result, mensagem = call_model(json.dumps(text))"
   ]
  },
  {
   "cell_type": "code",
   "execution_count": 11,
   "id": "8a39dcaa",
   "metadata": {},
   "outputs": [
    {
     "data": {
      "text/plain": [
       "{'candidateSummary': 'Pescador profissional com 5 anos de experiência em pesca artesanal, atuando em embarcações de médio porte, comprovado domínio de técnicas de pesca, conhecimento de redes, equipamentos e normas marítimas. Possui bom condicionamento físico, capacidade de adaptação a longas jornadas e forte interesse em práticas sustentáveis.',\n",
       " 'jobSummary': 'titulo_vaga: empresa alimentos busca pescador profissional atuar operacoes pesca alto mar contribuindo captura selecao conservacao pescado necessário conhecimento tecnicas sustentavel manuseio redes equipamentos navegacao desejavel experiência manutenção básica embarcacoes motores',\n",
       " 'questions': ['Pergunta 1: Descreva uma situação em que precisou lidar com um desafio técnico específico em sua pesca, como uma emergência com equipamentos ou condições climáticas adversas. ',\n",
       "  'Pergunta 2: Como você se mantém atualizado com as novas tecnologias e técnicas de pesca para otimizar sua eficiência e adaptar-se a diferentes condições marítimas?',\n",
       "  'Pergunta 3: Qual a sua abordagem para garantir a conservação adequada dos peixes e frutos do mar, considerando aspectos ambientais e sustentáveis?',\n",
       "  'Pergunta 4: Cite um exemplo de como você colaborou com a equipe em um ambiente de trabalho dinâmico e exigente, como por exemplo, durante o carregamento de equipamentos ou durante a movimentação de pescado.',\n",
       "  'Pergunta 5: Como você demonstra seu comprometimento com a segurança marítima e o respeito às normas e regulamentações?'],\n",
       " 'compatibility_rate': '0.7520701289176941'}"
      ]
     },
     "execution_count": 11,
     "metadata": {},
     "output_type": "execute_result"
    }
   ],
   "source": [
    "result"
   ]
  },
  {
   "cell_type": "code",
   "execution_count": 5,
   "id": "7ed7e347",
   "metadata": {},
   "outputs": [],
   "source": [
    "candidate_summary = result.get(\"candidateSummary\", \"\")\n",
    "job_summary = result.get(\"jobSummary\", \"\")"
   ]
  },
  {
   "cell_type": "code",
   "execution_count": null,
   "id": "a939c54d",
   "metadata": {},
   "outputs": [
    {
     "name": "stdout",
     "output_type": "stream",
     "text": [
      "torch.Size([1, 1])\n"
     ]
    }
   ],
   "source": [
    "from sentence_transformers import SentenceTransformer\n",
    "\n",
    "model = SentenceTransformer(\"sentence-transformers/paraphrase-multilingual-MiniLM-L12-v2\")\n",
    "\n",
    "sentences = [\n",
    "    candidate_summary\n",
    "    ,job_summary\n",
    "]\n",
    "similarities = model.similarity(model.encode(candidate_summary), model.encode(job_summary))\n",
    "print(similarities.shape)\n",
    "# [3, 3]"
   ]
  },
  {
   "cell_type": "code",
   "execution_count": null,
   "id": "8b149913",
   "metadata": {},
   "outputs": [
    {
     "ename": "IndexError",
     "evalue": "index 1 is out of bounds for dimension 1 with size 1",
     "output_type": "error",
     "traceback": [
      "\u001b[1;31m---------------------------------------------------------------------------\u001b[0m",
      "\u001b[1;31mIndexError\u001b[0m                                Traceback (most recent call last)",
      "Cell \u001b[1;32mIn[10], line 1\u001b[0m\n\u001b[1;32m----> 1\u001b[0m compatibility_rate \u001b[38;5;241m=\u001b[39m \u001b[43msimilarities\u001b[49m\u001b[43m[\u001b[49m\u001b[38;5;241;43m0\u001b[39;49m\u001b[43m,\u001b[49m\u001b[43m \u001b[49m\u001b[38;5;241;43m1\u001b[39;49m\u001b[43m]\u001b[49m\n",
      "\u001b[1;31mIndexError\u001b[0m: index 1 is out of bounds for dimension 1 with size 1"
     ]
    }
   ],
   "source": [
    "compatibility_rate = similarities.tolist()[0][0]"
   ]
  },
  {
   "cell_type": "code",
   "execution_count": 8,
   "id": "e4ac724a",
   "metadata": {},
   "outputs": [
    {
     "data": {
      "text/plain": [
       "tensor(0.6181)"
      ]
     },
     "execution_count": 8,
     "metadata": {},
     "output_type": "execute_result"
    }
   ],
   "source": [
    "compatibility_rate"
   ]
  },
  {
   "cell_type": "code",
   "execution_count": 18,
   "id": "53c1242a",
   "metadata": {},
   "outputs": [
    {
     "data": {
      "text/plain": [
       "0.6180727481842041"
      ]
     },
     "execution_count": 18,
     "metadata": {},
     "output_type": "execute_result"
    }
   ],
   "source": [
    "similarities.tolist()[0][0]"
   ]
  },
  {
   "cell_type": "code",
   "execution_count": null,
   "id": "2d47a8ad",
   "metadata": {},
   "outputs": [],
   "source": []
  }
 ],
 "metadata": {
  "kernelspec": {
   "display_name": "venv",
   "language": "python",
   "name": "python3"
  },
  "language_info": {
   "codemirror_mode": {
    "name": "ipython",
    "version": 3
   },
   "file_extension": ".py",
   "mimetype": "text/x-python",
   "name": "python",
   "nbconvert_exporter": "python",
   "pygments_lexer": "ipython3",
   "version": "3.10.11"
  }
 },
 "nbformat": 4,
 "nbformat_minor": 5
}

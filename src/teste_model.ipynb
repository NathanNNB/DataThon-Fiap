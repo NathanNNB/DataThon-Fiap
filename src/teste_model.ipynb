{
 "cells": [
  {
   "cell_type": "code",
   "execution_count": 1,
   "id": "59422a4b",
   "metadata": {},
   "outputs": [
    {
     "name": "stderr",
     "output_type": "stream",
     "text": [
      "c:\\Users\\willb\\Documents\\Projetos\\DataThon-Fiap\\venv\\lib\\site-packages\\tqdm\\auto.py:21: TqdmWarning: IProgress not found. Please update jupyter and ipywidgets. See https://ipywidgets.readthedocs.io/en/stable/user_install.html\n",
      "  from .autonotebook import tqdm as notebook_tqdm\n",
      "[nltk_data] Downloading package stopwords to\n",
      "[nltk_data]     C:\\Users\\willb\\AppData\\Roaming\\nltk_data...\n",
      "[nltk_data]   Package stopwords is already up-to-date!\n",
      "[nltk_data] Downloading package punkt_tab to\n",
      "[nltk_data]     C:\\Users\\willb\\AppData\\Roaming\\nltk_data...\n",
      "[nltk_data]   Package punkt_tab is already up-to-date!\n"
     ]
    }
   ],
   "source": [
    "from call_model import call_model\n",
    "import pandas as pd\n",
    "import json "
   ]
  },
  {
   "cell_type": "code",
   "execution_count": 2,
   "id": "ce942cf6",
   "metadata": {},
   "outputs": [],
   "source": [
    "text = {\n",
    "  \"curriculo\": \"Profissional graduado em Sistemas de Informação, com mais de 8 anos de experiência no setor de tecnologia. Atuou em projetos de grande porte em bancos e empresas de varejo, desenvolvendo soluções de análise de dados, integração de sistemas e automação de processos. Possui forte conhecimento em Python, SQL, Big Data, Power BI e metodologias ágeis, além de experiência em liderar times multidisciplinares. Demonstra capacidade de comunicação clara, foco em resultados e habilidade em transformar necessidades de negócio em soluções técnicas eficientes, escaláveis e seguras.\",\n",
    "  \"job_description\": \"Estamos em busca de um Analista de Dados Sênior para integrar nosso time de Inteligência de Negócios. O profissional será responsável por estruturar e analisar grandes volumes de dados, criar dashboards estratégicos e apoiar a tomada de decisão em diferentes áreas da empresa. É necessário domínio em Python, SQL e ferramentas de visualização (como Power BI ou Tableau). Experiência com Big Data e conhecimento em ambientes de cloud (GCP, AWS ou Azure) serão diferenciais. Além das habilidades técnicas, buscamos alguém com boa comunicação, capacidade analítica, visão de negócio e espírito colaborativo para atuar em um ambiente ágil e inovador.\"\n",
    "}"
   ]
  },
  {
   "cell_type": "code",
   "execution_count": 6,
   "id": "e6d1e504",
   "metadata": {},
   "outputs": [],
   "source": [
    "result, mensagem = call_model(json.dumps(text))"
   ]
  },
  {
   "cell_type": "code",
   "execution_count": 7,
   "id": "d2229555",
   "metadata": {},
   "outputs": [
    {
     "data": {
      "text/plain": [
       "{'resumo_candidato': 'analista dados, experiência em projetos grandes porte, solucões análise dados, integracao automacao processos, python, sql, big data, power bi, metodologias agile, liderança times multidisciplinares, comunicação clara, foco resultados, habilidade transformar necessidades, técnicas eficientes escaláveis, seguras',\n",
       " 'resumo_vaga': 'analista dados senior: busca integrar time inteligencia negócios, profissional sera responsável estruturar analisar grandes volumes criar dashboards estrategicos, apoiar tomada decisao diferentes areas, empresa necessario domínio python sql ferramentas visualizacao power bi tableau, experiencia big data, conhecimento ambientes cloud gcp aws azure, serao diferenciais alem habilidades tecnicas buscamos alguem boa comunicacao capacidade analitica visao negocio espirito colaborativo atuar ambiente agil inovador',\n",
       " 'perguntas_entrevista': ['Descreva uma situação em que você precisou analisar um grande volume de dados para identificar padrões e insights. Quais foram os desafios e como você os superou?',\n",
       "  'Como você lida com a pressão e a urgência ao trabalhar com projetos que envolvem prazos apertados?',\n",
       "  'Explique como você utilizaria Python e SQL para construir um dashboard que ajude a tomar decisões estratégicas.',\n",
       "  'Compartilhe um exemplo de como você transformou necessidades de negócio em soluções técnicas eficientes e escaláveis.',\n",
       "  'Como você se comunica com diferentes membros da equipe e stakeholders, garantindo que todos estejam alinhados com os objetivos da empresa?'],\n",
       " 'taxa_de_compatibilidade': '1.00'}"
      ]
     },
     "execution_count": 7,
     "metadata": {},
     "output_type": "execute_result"
    }
   ],
   "source": [
    "result"
   ]
  },
  {
   "cell_type": "code",
   "execution_count": 8,
   "id": "54e28266",
   "metadata": {},
   "outputs": [
    {
     "data": {
      "text/plain": [
       "'Retorno com sucesso.'"
      ]
     },
     "execution_count": 8,
     "metadata": {},
     "output_type": "execute_result"
    }
   ],
   "source": [
    "mensagem"
   ]
  },
  {
   "cell_type": "code",
   "execution_count": null,
   "id": "d3f64edf",
   "metadata": {},
   "outputs": [],
   "source": []
  }
 ],
 "metadata": {
  "kernelspec": {
   "display_name": "venv",
   "language": "python",
   "name": "python3"
  },
  "language_info": {
   "codemirror_mode": {
    "name": "ipython",
    "version": 3
   },
   "file_extension": ".py",
   "mimetype": "text/x-python",
   "name": "python",
   "nbconvert_exporter": "python",
   "pygments_lexer": "ipython3",
   "version": "3.10.11"
  }
 },
 "nbformat": 4,
 "nbformat_minor": 5
}

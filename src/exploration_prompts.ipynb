{
 "cells": [
  {
   "cell_type": "code",
   "execution_count": 1,
   "id": "951b515c",
   "metadata": {},
   "outputs": [
    {
     "name": "stderr",
     "output_type": "stream",
     "text": [
      "c:\\Users\\willb\\Documents\\Projetos\\DataThon-Fiap\\venv\\lib\\site-packages\\tqdm\\auto.py:21: TqdmWarning: IProgress not found. Please update jupyter and ipywidgets. See https://ipywidgets.readthedocs.io/en/stable/user_install.html\n",
      "  from .autonotebook import tqdm as notebook_tqdm\n",
      "[nltk_data] Downloading package stopwords to\n",
      "[nltk_data]     C:\\Users\\willb\\AppData\\Roaming\\nltk_data...\n",
      "[nltk_data]   Package stopwords is already up-to-date!\n",
      "[nltk_data] Downloading package punkt_tab to\n",
      "[nltk_data]     C:\\Users\\willb\\AppData\\Roaming\\nltk_data...\n",
      "[nltk_data]   Package punkt_tab is already up-to-date!\n"
     ]
    }
   ],
   "source": [
    "from rag_model_test import RAGRecrutamento\n",
    "from preprocessing import TextPreprocessing\n",
    "import settings\n",
    "import pandas as pd\n",
    "from google.cloud import bigquery\n",
    "\n",
    "client = bigquery.Client.from_service_account_json(settings.GOOGLE_CREDENTIALS)"
   ]
  },
  {
   "cell_type": "code",
   "execution_count": 2,
   "id": "1e45888f",
   "metadata": {},
   "outputs": [
    {
     "name": "stderr",
     "output_type": "stream",
     "text": [
      "c:\\Users\\willb\\Documents\\Projetos\\DataThon-Fiap\\venv\\lib\\site-packages\\google\\cloud\\bigquery\\table.py:1994: UserWarning: BigQuery Storage module not found, fetch data with the REST endpoint instead.\n",
      "  warnings.warn(\n"
     ]
    }
   ],
   "source": [
    "full_df = client.list_rows(\"datathon-473001.datathon.full_data\").to_dataframe()\n"
   ]
  },
  {
   "cell_type": "code",
   "execution_count": 3,
   "id": "dc7a86d6",
   "metadata": {},
   "outputs": [
    {
     "data": {
      "text/plain": [
       "(45071, 38)"
      ]
     },
     "execution_count": 3,
     "metadata": {},
     "output_type": "execute_result"
    }
   ],
   "source": [
    "full_df.shape"
   ]
  },
  {
   "cell_type": "code",
   "execution_count": 4,
   "id": "9e0c98ab",
   "metadata": {},
   "outputs": [],
   "source": [
    "full_df_filt = full_df[[\n",
    "  'perfil_vaga_estado',\n",
    "  'perfil_vaga_cidade',\n",
    "  'perfil_vaga_nivel_profissional',\n",
    "  'perfil_vaga_nivel_academico',\n",
    "  'perfil_vaga_nivel_ingles',\n",
    "  'perfil_vaga_nivel_espanhol',\n",
    "  'perfil_vaga_principais_atividades',\n",
    "  'perfil_vaga_competencia_tecnicas_e_comportamentais',\n",
    "  'perfil_vaga_demais_observacoes',\n",
    "  'infos_basicas_objetivo_profissional',\n",
    "  'infos_basicas_local',\n",
    "  'formacao_e_idiomas_nivel_academico',\n",
    "  'formacao_e_idiomas_nivel_ingles',\n",
    "  'formacao_e_idiomas_nivel_espanhol',\n",
    "  'cv_pt_0',\n",
    "  'situacao_candidado']]"
   ]
  },
  {
   "cell_type": "code",
   "execution_count": 5,
   "id": "1699d4b5",
   "metadata": {},
   "outputs": [],
   "source": [
    "# Função de tratamento\n",
    "def tratar_textos(lista_textos):\n",
    "    processamento = TextPreprocessing()\n",
    "    textos_validos = [str(t).strip() for t in lista_textos if pd.notna(t)]\n",
    "    texto = processamento.preprocess_text(texts=textos_validos,\n",
    "                                          apply_lower=True,\n",
    "                                          remove_ponctuation=True,\n",
    "                                          remove_numbers=True,\n",
    "                                          clean_html=True,\n",
    "                                          apply_unidecode=True,\n",
    "                                          remove_stopwords=True,\n",
    "                                          remove_duplicates=True,\n",
    "                                          apply_stemming=False,\n",
    "                                          apply_lemmitization=False,\n",
    "                                          )\n",
    "    return texto\n"
   ]
  },
  {
   "cell_type": "code",
   "execution_count": 6,
   "id": "da223b1f",
   "metadata": {},
   "outputs": [],
   "source": [
    "colunas_vaga = [\n",
    "    'perfil_vaga_estado',\n",
    "  'perfil_vaga_cidade',\n",
    "  'perfil_vaga_nivel_profissional',\n",
    "  'perfil_vaga_nivel_academico',\n",
    "  'perfil_vaga_nivel_ingles',\n",
    "  'perfil_vaga_nivel_espanhol',\n",
    "  'perfil_vaga_principais_atividades',\n",
    "  'perfil_vaga_competencia_tecnicas_e_comportamentais',\n",
    "  'perfil_vaga_demais_observacoes'\n",
    "]"
   ]
  },
  {
   "cell_type": "code",
   "execution_count": 7,
   "id": "f620c4f1",
   "metadata": {},
   "outputs": [],
   "source": [
    "colunas_candidato = [\n",
    "  'infos_basicas_objetivo_profissional',\n",
    "  'infos_basicas_local',\n",
    "  'formacao_e_idiomas_nivel_academico',\n",
    "  'formacao_e_idiomas_nivel_ingles',\n",
    "  'formacao_e_idiomas_nivel_espanhol',\n",
    "  'cv_pt_0'\n",
    "]"
   ]
  },
  {
   "cell_type": "code",
   "execution_count": 8,
   "id": "1c7b56b2",
   "metadata": {},
   "outputs": [],
   "source": [
    "# aplica só nas colunas escolhidas\n",
    "full_df['texto_tratado_vaga'] = full_df[colunas_vaga].apply(\n",
    "    lambda row: tratar_textos(row.tolist()), axis=1\n",
    ")\n",
    "\n",
    "# aplica só nas colunas escolhidas\n",
    "full_df['texto_tratado_candidato'] = full_df[colunas_candidato].apply(\n",
    "    lambda row: tratar_textos(row.tolist()), axis=1\n",
    ")\n",
    "\n",
    "# exemplo: pegar junto com a situacao do candidato\n",
    "df_final = full_df[['situacao_candidado', 'texto_tratado_vaga', 'texto_tratado_candidato']]"
   ]
  },
  {
   "cell_type": "code",
   "execution_count": 9,
   "id": "a027c2f9",
   "metadata": {},
   "outputs": [
    {
     "data": {
      "text/plain": [
       "situacao_candidado\n",
       "prospect                          16602\n",
       "encaminhado ao requisitante       13807\n",
       "inscrito                           3183\n",
       "não aprovado pelo cliente          2964\n",
       "contratado pela decision           2254\n",
       "desistiu                           2061\n",
       "não aprovado pelo rh               1583\n",
       "não aprovado pelo requisitante      653\n",
       "entrevista técnica                  485\n",
       "entrevista com cliente              363\n",
       "sem interesse nesta vaga            361\n",
       "em avaliação pelo rh                339\n",
       "aprovado                            183\n",
       "contratado como hunting             172\n",
       "desistiu da contratação              48\n",
       "documentação pj                       4\n",
       "documentação clt                      3\n",
       "documentação cooperado                2\n",
       "recusado                              2\n",
       "proposta aceita                       1\n",
       "encaminhar proposta                   1\n",
       "Name: count, dtype: int64"
      ]
     },
     "execution_count": 9,
     "metadata": {},
     "output_type": "execute_result"
    }
   ],
   "source": [
    "df_final.situacao_candidado.value_counts()"
   ]
  },
  {
   "cell_type": "code",
   "execution_count": 10,
   "id": "3d2a4829",
   "metadata": {},
   "outputs": [],
   "source": [
    "map_situacao = {\n",
    "    # --- Pipeline / Em processo ---\n",
    "    \"prospect\": \"pipeline\",\n",
    "    \"inscrito\": \"pipeline\",\n",
    "    \"encaminhado ao requisitante\": \"pipeline\",\n",
    "    \"entrevista técnica\": \"pipeline\",\n",
    "    \"entrevista com cliente\": \"pipeline\",\n",
    "    \"em avaliação pelo rh\": \"pipeline\",\n",
    "    \"documentação pj\": \"pipeline\",\n",
    "    \"documentação clt\": \"pipeline\",\n",
    "    \"documentação cooperado\": \"pipeline\",\n",
    "    \"encaminhar proposta\": \"pipeline\",\n",
    "\n",
    "    # --- Reprovados / Desistentes ---\n",
    "    \"não aprovado pelo cliente\": \"reprovado\",\n",
    "    \"não aprovado pelo rh\": \"reprovado\",\n",
    "    \"não aprovado pelo requisitante\": \"reprovado\",\n",
    "    \"desistiu\": \"reprovado\",\n",
    "    \"desistiu da contratação\": \"reprovado\",\n",
    "    \"sem interesse nesta vaga\": \"reprovado\",\n",
    "    \"recusado\": \"reprovado\",\n",
    "\n",
    "    # --- Aprovados / Contratados ---\n",
    "    \"aprovado\": \"aprovado\",\n",
    "    \"proposta aceita\": \"aprovado\",\n",
    "    \"contratado pela decision\": \"aprovado\",\n",
    "    \"contratado como hunting\": \"aprovado\"\n",
    "}"
   ]
  },
  {
   "cell_type": "code",
   "execution_count": 11,
   "id": "1b5d1c57",
   "metadata": {},
   "outputs": [],
   "source": [
    "df_final = (df_final.assign(\n",
    "    situacao_candidato_grp=lambda df_: df_[\"situacao_candidado\"].map(map_situacao)\n",
    ").drop('situacao_candidado', axis=1)\n",
    ")"
   ]
  },
  {
   "cell_type": "code",
   "execution_count": 12,
   "id": "e21072d6",
   "metadata": {},
   "outputs": [],
   "source": [
    "rag_model = RAGRecrutamento()"
   ]
  },
  {
   "cell_type": "code",
   "execution_count": 13,
   "id": "7b0cb796",
   "metadata": {},
   "outputs": [],
   "source": [
    "job_description = df_final.texto_tratado_vaga.iloc[350]\n",
    "\n",
    "curriculo = df_final.texto_tratado_candidato.iloc[350]"
   ]
  },
  {
   "cell_type": "code",
   "execution_count": 14,
   "id": "afc71da4",
   "metadata": {},
   "outputs": [],
   "source": [
    "resultado = rag_model.rag(curriculo, job_description)"
   ]
  },
  {
   "cell_type": "code",
   "execution_count": 15,
   "id": "0331e32c",
   "metadata": {},
   "outputs": [
    {
     "data": {
      "text/plain": [
       "'crescimento profissional exemplo atuacao area aprender sempre maringa parana ensino superior cursando basico experiencia empresa associacao amparo pessoas idosas wajunkai data admissao saida atualmente ano mes semprebom industria produtos naturais meses atribuicoes realizacoes recrutamento selecao rescisao lancamentos fechamento folha pagamento ferias salario banco horas conferencia apuracao ponto controle pedido beneficios atendimento fornecedores lancamento motoristas atender orientar colaboradores acordo normas suporte faturamento correcao pedidos comissao santa rita saude s anos telefonica brasil telefonico receptivo retencao clientes confirmacao cadastro contratos acompanhamento comprometimento metas animakids eventos jhm telecom ltda influx school idiomas analise processos planejamento estrategico vendas cursos contas receber manutencao aluno conferir contrato acompanhar agenda pedagogica tutores presencial mostrar espaco escola elaborar emissao boleto outras atividades administrativas complementares participacao curso coaching integrativo sistemico certificada terapeuta eft emotional freedom techniques cipa astrologia psicologica voluntariedade asilo bingo atividade pintura nota'"
      ]
     },
     "execution_count": 15,
     "metadata": {},
     "output_type": "execute_result"
    }
   ],
   "source": [
    "curriculo"
   ]
  },
  {
   "cell_type": "code",
   "execution_count": 16,
   "id": "3613e3b0",
   "metadata": {},
   "outputs": [
    {
     "data": {
      "text/plain": [
       "'sao paulo senior ensino superior completo basico analista recrutamento selecao tech recruiter conhecimentos etapas processo triagem cv candidatos contato habilidade pacote office boa desenvoltura comunicacao vontade crescimento profissional conhecimento sobre linguagens programacao ferramentas bibliotecas boas praticas avaliacao tecnica vagas tecnologia rh necessario curso nivel agilidade contratacao profissionais vaga urgente'"
      ]
     },
     "execution_count": 16,
     "metadata": {},
     "output_type": "execute_result"
    }
   ],
   "source": [
    "job_description"
   ]
  },
  {
   "cell_type": "code",
   "execution_count": 17,
   "id": "f9e5bd9f",
   "metadata": {},
   "outputs": [
    {
     "name": "stdout",
     "output_type": "stream",
     "text": [
      "```json\n",
      "{\n",
      "  \"pontos_de_destaque\": [\n",
      "    \"Experiência em ensino superior, demonstrando conhecimento de linguagens de programação e ferramentas bibliotecas.\",\n",
      "    \"Demonstração de habilidades analíticas e de avaliação técnica através de processos de recrutamento e seleção.\",\n",
      "    \"Comunicação eficaz e proatividade na interação com candidatos e colaboradores.\",\n",
      "    \"Vontade de crescimento profissional e busca por novos desafios na área de tecnologia.\",\n",
      "    \"Aprovação em cursos de agilidade e profissionalismo, demonstrando compromisso com a área.\"\n",
      "  ],\n",
      "  \"perguntas_entrevista\": [\n",
      "    \"Com base na sua experiência em ensino superior, como você lida com candidatos com diferentes níveis de conhecimento?\",\n",
      "    \"Descreva uma situação em que você precisou analisar um currículo e identificar as qualificações mais relevantes para uma vaga. Quais foram os critérios que você utilizou?\",\n",
      "    \"Como você se mantém atualizado sobre as tendências da tecnologia e as ferramentas que são relevantes para a área de recrutamento e seleção?\",\n",
      "    \"Qual a sua motivação para trabalhar em uma empresa de tecnologia e quais são seus objetivos de carreira a longo prazo?\",\n",
      "    \"Qual a sua experiência com processos de recrutamento e seleção e qual a sua contribuição nesses processos?\"\n",
      "  ]\n",
      "}\n",
      "```<end_of_turn>\n"
     ]
    }
   ],
   "source": [
    "print(resultado)"
   ]
  },
  {
   "cell_type": "code",
   "execution_count": null,
   "id": "698c8de7",
   "metadata": {},
   "outputs": [],
   "source": []
  }
 ],
 "metadata": {
  "kernelspec": {
   "display_name": "venv",
   "language": "python",
   "name": "python3"
  },
  "language_info": {
   "codemirror_mode": {
    "name": "ipython",
    "version": 3
   },
   "file_extension": ".py",
   "mimetype": "text/x-python",
   "name": "python",
   "nbconvert_exporter": "python",
   "pygments_lexer": "ipython3",
   "version": "3.10.11"
  }
 },
 "nbformat": 4,
 "nbformat_minor": 5
}

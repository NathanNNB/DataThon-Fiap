{
 "cells": [
  {
   "cell_type": "code",
   "execution_count": 4,
   "id": "951b515c",
   "metadata": {},
   "outputs": [],
   "source": [
    "from rag_model_test import RAGRecrutamento"
   ]
  },
  {
   "cell_type": "code",
   "execution_count": 2,
   "id": "da223b1f",
   "metadata": {},
   "outputs": [],
   "source": [
    "# Base de conhecimento (exemplo simples)\n",
    "curriculo = '''Sou analista de dados, bacharel em Sistemas de Informação e atualmente curso uma\n",
    " pós-graduação em Engenharia de Machine Learning. Meu foco está na análise e\n",
    " engenharia de dados, além da automação de processos, sempre buscando\n",
    " transformar dados complexos em informações estratégicas e garantir soluções\n",
    " eficientes. Combino criatividade e pensamento analítico com senso de urgência,\n",
    " proatividade e trabalho em equipe para enfrentar desafios com foco e resiliência,\n",
    " enquanto aprimoro constantemente minhas habilidades técnicas e de liderança.\n",
    " \n",
    " No meu cargo atual, desenvolvo scripts em Python para criar sistemas internos, extrair\n",
    " dados via web scraping e automatizar tarefas rotineiras. Além disso, trabalho com\n",
    " SQL para manipulação eficiente de dados em um ambiente de Big Data, sempre\n",
    " buscando otimizar consultas. Com os dados refinados, crio painéis interativos e\n",
    " visualizações no Power BI e outras ferramentas, transformando conjuntos de dados\n",
    " complexos em insights acionáveis que auxiliam na tomada de decisões em diversas\n",
    " áreas do negócio.\n",
    " \n",
    " Python (Avançado)\n",
    " SQL (Avançado)\n",
    " Sistemas de Data Viz\n",
    " Inglês Fluente\n",
    " Metodologias Ágeis\n",
    " Docker\n",
    " Spark\n",
    " Algoritmos de\n",
    " Modelagem'''\n"
   ]
  },
  {
   "cell_type": "code",
   "execution_count": 3,
   "id": "5978bc29",
   "metadata": {},
   "outputs": [],
   "source": [
    "job_description = '''Job Description\n",
    "\n",
    "Perfil de um Desenvolvedor Python OCI para migrar um Data Lake da AWS para o OCI\n",
    "\n",
    "Desenvolvedor sênior de Python\n",
    "Uso de SDKs (OCI SDK em Python)\n",
    "Experiência no tratamento de dados nos formatos Parquet e JSON\n",
    "Otimização de jobs Spark a nível de código (partições, joins, cache)\n",
    "\n",
    "\n",
    "Serviços OCI\n",
    "\n",
    "OCI Object Storage\n",
    "OCI Data Flow\n",
    "OCI SQL Endpoint\n",
    "OCI SDK para Python\n",
    "OCI Function\n",
    "OCI ADW\n",
    "\n",
    "\n",
    "Responsibilities\n",
    "\n",
    "Descrição das atividades:\n",
    "\n",
    "Gerenciamento de acessos a buckets/objetos.\n",
    "Automação de deployments.\n",
    "Desenvolvimento de scripts para copiar dados entre AWS e OCI (upload/download multipart, paralelismo).\n",
    "Migração de códigos AWS para OCI.\n",
    "Configuração do Data Flow.\n",
    "Consultas em SQL Endpoint.\n",
    "Validações pós-migração.'''"
   ]
  },
  {
   "cell_type": "code",
   "execution_count": 5,
   "id": "e21072d6",
   "metadata": {},
   "outputs": [],
   "source": [
    "rag_model = RAGRecrutamento()"
   ]
  },
  {
   "cell_type": "code",
   "execution_count": 7,
   "id": "afc71da4",
   "metadata": {},
   "outputs": [],
   "source": [
    "resultado = rag_model.rag(curriculo, job_description)"
   ]
  },
  {
   "cell_type": "code",
   "execution_count": 8,
   "id": "f9e5bd9f",
   "metadata": {},
   "outputs": [
    {
     "name": "stdout",
     "output_type": "stream",
     "text": [
      "```json\n",
      "{\n",
      "  \"pontos_de_destaque\": [\n",
      "    \"Experiência comprovada em desenvolvimento em Python, incluindo a utilização de SDKs (OCI SDK em Python).\",\n",
      "    \"Sólida experiência em tratamento de dados nos formatos Parquet e JSON, com foco na manipulação eficiente de grandes volumes de dados.\",\n",
      "    \"Experiência no otimização de jobs Spark a nível de código (partições, joins, cache), demonstrando conhecimento em otimização de performance.\",\n",
      "    \"Domínio de serviços OCI como Object Storage, Data Flow, SQL Endpoint, SDK para Python e OCI Function, demonstrando familiaridade com infraestrutura de nuvem.\",\n",
      "    \"Habilidade em gerenciamento de acesso a buckets/objetos, automatização de deployments e desenvolvimento de scripts para migração de códigos AWS para OCI.\"\n",
      "  ],\n",
      "  \"perguntas_entrevista\": [\n",
      "    \"Como você otimizaria um job Spark para garantir um alto throughput em um ambiente de Big Data?\",\n",
      "    \"Descreva sua experiência com o uso de Data Flow e como você aprimoraria sua performance.\",\n",
      "    \"Como você abordaria a validação pós-migração de código de AWS para OCI?\",\n",
      "    \"Quais ferramentas e técnicas você utilizaria para automatizar o processo de migração de código AWS para OCI?\",\n",
      "    \"Como você lida com a complexidade da migração de código entre diferentes sistemas de armazenamento e infraestrutura?\"\n",
      "  ]\n",
      "}\n",
      "```<end_of_turn>\n"
     ]
    }
   ],
   "source": [
    "print(resultado)"
   ]
  },
  {
   "cell_type": "code",
   "execution_count": null,
   "id": "698c8de7",
   "metadata": {},
   "outputs": [],
   "source": []
  }
 ],
 "metadata": {
  "kernelspec": {
   "display_name": "venv",
   "language": "python",
   "name": "python3"
  },
  "language_info": {
   "codemirror_mode": {
    "name": "ipython",
    "version": 3
   },
   "file_extension": ".py",
   "mimetype": "text/x-python",
   "name": "python",
   "nbconvert_exporter": "python",
   "pygments_lexer": "ipython3",
   "version": "3.10.11"
  }
 },
 "nbformat": 4,
 "nbformat_minor": 5
}

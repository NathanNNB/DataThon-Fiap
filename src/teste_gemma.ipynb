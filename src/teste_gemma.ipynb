{
 "cells": [
  {
   "cell_type": "code",
   "execution_count": 1,
   "id": "fd88a5ee",
   "metadata": {},
   "outputs": [
    {
     "name": "stderr",
     "output_type": "stream",
     "text": [
      "c:\\Users\\willb\\Documents\\Projetos\\DataThon-Fiap\\venv\\lib\\site-packages\\tqdm\\auto.py:21: TqdmWarning: IProgress not found. Please update jupyter and ipywidgets. See https://ipywidgets.readthedocs.io/en/stable/user_install.html\n",
      "  from .autonotebook import tqdm as notebook_tqdm\n"
     ]
    }
   ],
   "source": [
    "from transformers import AutoTokenizer, AutoModelForCausalLM, pipeline\n",
    "from sentence_transformers import SentenceTransformer\n",
    "import faiss\n",
    "import numpy as np\n",
    "import settings\n",
    "import torch\n",
    "from ollama import chat, ChatResponse\n"
   ]
  },
  {
   "cell_type": "code",
   "execution_count": 2,
   "id": "2fd46c67",
   "metadata": {},
   "outputs": [],
   "source": [
    "from huggingface_hub import login\n",
    "login(token=settings.login)"
   ]
  },
  {
   "cell_type": "code",
   "execution_count": 3,
   "id": "d684020e",
   "metadata": {},
   "outputs": [],
   "source": [
    "# Load model directly\n",
    "\n",
    "#google/gemma-3-1b-it\n",
    "#meta-llama/Llama-3.1-8B-Instruct\n",
    "#Qwen/Qwen3-Next-80B-A3B-Instruct\n",
    "#deepseek-ai/DeepSeek-R1-0528-Qwen3-8B\n",
    "model_name = \"google/gemma-3-1b-it\"\n",
    "\n",
    "tokenizer = AutoTokenizer.from_pretrained(model_name,\n",
    "                                          cache_dir=f\"../models/{model_name}\",\n",
    "                                          load_in_8bit=True,\n",
    "                                          dtype=\"float16\"\n",
    "                                          )\n",
    "\n",
    "model = AutoModelForCausalLM.from_pretrained(model_name\n",
    "                                             ,device_map=\"auto\"\n",
    "                                             ,offload_folder=\"../offload\"\n",
    "                                             )\n"
   ]
  },
  {
   "cell_type": "code",
   "execution_count": 4,
   "id": "c308b26f",
   "metadata": {},
   "outputs": [],
   "source": [
    "# Base de conhecimento (exemplo simples)\n",
    "curriculo = '''Sou analista de dados, bacharel em Sistemas de Informação e atualmente curso uma\n",
    " pós-graduação em Engenharia de Machine Learning. Meu foco está na análise e\n",
    " engenharia de dados, além da automação de processos, sempre buscando\n",
    " transformar dados complexos em informações estratégicas e garantir soluções\n",
    " eficientes. Combino criatividade e pensamento analítico com senso de urgência,\n",
    " proatividade e trabalho em equipe para enfrentar desafios com foco e resiliência,\n",
    " enquanto aprimoro constantemente minhas habilidades técnicas e de liderança.\n",
    " \n",
    " No meu cargo atual, desenvolvo scripts em Python para criar sistemas internos, extrair\n",
    " dados via web scraping e automatizar tarefas rotineiras. Além disso, trabalho com\n",
    " SQL para manipulação eficiente de dados em um ambiente de Big Data, sempre\n",
    " buscando otimizar consultas. Com os dados refinados, crio painéis interativos e\n",
    " visualizações no Power BI e outras ferramentas, transformando conjuntos de dados\n",
    " complexos em insights acionáveis que auxiliam na tomada de decisões em diversas\n",
    " áreas do negócio.\n",
    " \n",
    " Python (Avançado)\n",
    " SQL (Avançado)\n",
    " Sistemas de Data Viz\n",
    " Inglês Fluente\n",
    " Metodologias Ágeis\n",
    " Docker\n",
    " Spark\n",
    " Algoritmos de\n",
    " Modelagem'''\n"
   ]
  },
  {
   "cell_type": "code",
   "execution_count": 5,
   "id": "f33ab490",
   "metadata": {},
   "outputs": [],
   "source": [
    "job_description = '''Job Description\n",
    "\n",
    "Perfil de um Desenvolvedor Python OCI para migrar um Data Lake da AWS para o OCI\n",
    "\n",
    "Desenvolvedor sênior de Python\n",
    "Uso de SDKs (OCI SDK em Python)\n",
    "Experiência no tratamento de dados nos formatos Parquet e JSON\n",
    "Otimização de jobs Spark a nível de código (partições, joins, cache)\n",
    "\n",
    "\n",
    "Serviços OCI\n",
    "\n",
    "OCI Object Storage\n",
    "OCI Data Flow\n",
    "OCI SQL Endpoint\n",
    "OCI SDK para Python\n",
    "OCI Function\n",
    "OCI ADW\n",
    "\n",
    "\n",
    "Responsibilities\n",
    "\n",
    "Descrição das atividades:\n",
    "\n",
    "Gerenciamento de acessos a buckets/objetos.\n",
    "Automação de deployments.\n",
    "Desenvolvimento de scripts para copiar dados entre AWS e OCI (upload/download multipart, paralelismo).\n",
    "Migração de códigos AWS para OCI.\n",
    "Configuração do Data Flow.\n",
    "Consultas em SQL Endpoint.\n",
    "Validações pós-migração.'''"
   ]
  },
  {
   "cell_type": "code",
   "execution_count": 6,
   "id": "afff1847",
   "metadata": {},
   "outputs": [],
   "source": [
    "def teste_rag(curriculo, job_description):\n",
    "\n",
    "\tprompt = f\"\"\"\n",
    "    Contexto:\n",
    "    Sua tarefa é ler o texto do currículo de um candidato e a descrição da vaga e gerar exatamente:\n",
    "\n",
    "    1. Cinco pontos de destaque do candidato, em frases curtas e diretas (máximo 2 linhas cada), resumindo experiências, conquistas, habilidades e competências mais relevantes para a vaga.\n",
    "    2. Cinco perguntas estratégicas para entrevista, que explorem motivação, comportamento, soft skills, competências ou requisitos da vaga que não aparecem claramente no currículo.\n",
    "\n",
    "    Instruções obrigatórias (siga à risca):\n",
    "    - Use apenas informações do currículo e da vaga. Não invente fatos.\n",
    "    - Seja objetivo, claro e direto nos pontos de destaque (formato de mini resumo).\n",
    "    - As perguntas devem ser diferentes entre si, relevantes para a vaga e incentivar respostas com exemplos concretos.\n",
    "    - Nenhum ponto de destaque pode ser repetido.\n",
    "    - Nenhuma pergunta pode ser repetida.\n",
    "    - Nenhuma pergunta pode repetir informações já abordadas nos pontos de destaque.\n",
    "    - Considere experiências passadas, formação acadêmica, habilidades técnicas e comportamentais.\n",
    "    - Não retorne o texto de entrada, nem o contexto, nem explicações adicionais.\n",
    "\n",
    "    - A saída deve estar **exclusivamente em formato JSON seguindo o template abaixo, sem qualquer texto fora dele:\n",
    "\n",
    "    ```json\n",
    "      \"pontos_de_destaque\": [\n",
    "        \"Resumo curto do ponto 1\",\n",
    "        \"Resumo curto do ponto 2\",\n",
    "        \"Resumo curto do ponto 3\",\n",
    "        \"Resumo curto do ponto 4\",\n",
    "        \"Resumo curto do ponto 5\"\n",
    "      ],\n",
    "      \"perguntas_entrevista\": [\n",
    "        \"Pergunta 1\",\n",
    "        \"Pergunta 2\",\n",
    "        \"Pergunta 3\",\n",
    "        \"Pergunta 4\",\n",
    "        \"Pergunta 5\"\n",
    "      ]\n",
    "    ```\n",
    "      \n",
    "    Entrada: \n",
    "\n",
    "    Currículo:\n",
    "    {curriculo}\n",
    "\n",
    "    Vaga:\n",
    "    {job_description}\n",
    "\n",
    "    \"\"\"\n",
    "\n",
    "\tmessages = [\n",
    "\t\t{\"role\": \"system\", \"content\": \"Você é um assistente de recrutamento virtual.\"},\n",
    "        {\"role\": \"user\", \"content\": prompt}\n",
    "\t]\n",
    "\tinputs = tokenizer.apply_chat_template(\n",
    "\t\tmessages,\n",
    "\t\tadd_generation_prompt=True,\n",
    "\t\ttokenize=True,\n",
    "\t\treturn_dict=True,\n",
    "\t\treturn_tensors=\"pt\",\n",
    "\t).to(model.device)\n",
    "\n",
    "\toutputs = model.generate(**inputs, max_new_tokens=500)\n",
    "\treturn tokenizer.decode(outputs[0][inputs[\"input_ids\"].shape[-1]:])"
   ]
  },
  {
   "cell_type": "code",
   "execution_count": 7,
   "id": "2e8a5577",
   "metadata": {},
   "outputs": [],
   "source": [
    "teste = teste_rag(curriculo, job_description)"
   ]
  },
  {
   "cell_type": "code",
   "execution_count": 8,
   "id": "cdb880f2",
   "metadata": {},
   "outputs": [
    {
     "data": {
      "text/plain": [
       "'```json\\n{\\n  \"pontos_de_destaque\": [\\n    \"Analista de dados com formação em Sistemas de Informação e uma pós-graduação em Engenharia de Machine Learning, com foco em análise e engenharia de dados, automação de processos e soluções eficientes.\",\\n    \"Experiência comprovada em desenvolvimento de scripts Python para criação de sistemas internos, extração de dados via web scraping e automatização de tarefas rotineiras.\",\\n    \"Domínio de SQL para manipulação eficiente de dados em ambientes de Big Data e otimização de consultas através de SQL.\",\\n    \"Habilidade em trabalhar com frameworks de visualização de dados como Power BI e criar painéis interativos e visualizações.\",\\n    \"Proficiência em metodologias ágeis e conhecimento em Docker e Spark para otimizar o desenvolvimento e escalabilidade de soluções.\"\\n  ],\\n  \"perguntas_entrevista\": [\\n    \"Considerando a migração de um Data Lake da AWS para o OCI, quais são os principais desafios que você identificaria e como você os abordaria? \",\\n    \"Descreva sua experiência com o uso de Python e SDKs para trabalhar com dados em formatos como Parquet e JSON. Quais ferramentas ou técnicas você utilizaria para otimizar o desempenho dos seus scripts?\",\\n    \"Como você lida com a automação de deployments em ambientes de produção? Detalhe os passos que você seguiria e quais ferramentas utilizaria.\",\\n    \"Como você abordaria a validação pós-migração de código AWS para OCI? Quais são as principais etapas que você consideraria para garantir a qualidade e a consistência dos dados?\",\\n    \"Em sua experiência, como você integra as ferramentas de Data Flow e SQL Endpoint para otimizar a migração de dados entre AWS e OCI?\"\\n  ]\\n}\\n```<end_of_turn>'"
      ]
     },
     "execution_count": 8,
     "metadata": {},
     "output_type": "execute_result"
    }
   ],
   "source": [
    "teste "
   ]
  },
  {
   "cell_type": "code",
   "execution_count": 15,
   "id": "6c491b83",
   "metadata": {},
   "outputs": [],
   "source": [
    "import json"
   ]
  },
  {
   "cell_type": "code",
   "execution_count": 16,
   "id": "755550df",
   "metadata": {},
   "outputs": [
    {
     "ename": "JSONDecodeError",
     "evalue": "Expecting value: line 1 column 1 (char 0)",
     "output_type": "error",
     "traceback": [
      "\u001b[1;31m---------------------------------------------------------------------------\u001b[0m",
      "\u001b[1;31mJSONDecodeError\u001b[0m                           Traceback (most recent call last)",
      "Cell \u001b[1;32mIn[16], line 2\u001b[0m\n\u001b[0;32m      1\u001b[0m \u001b[38;5;66;03m# Converter a string para um dicionário Python\u001b[39;00m\n\u001b[1;32m----> 2\u001b[0m dados \u001b[38;5;241m=\u001b[39m \u001b[43mjson\u001b[49m\u001b[38;5;241;43m.\u001b[39;49m\u001b[43mloads\u001b[49m\u001b[43m(\u001b[49m\u001b[43mteste\u001b[49m\u001b[43m)\u001b[49m\n\u001b[0;32m      4\u001b[0m \u001b[38;5;66;03m# Acessando os pontos de destaque\u001b[39;00m\n\u001b[0;32m      5\u001b[0m \u001b[38;5;28mprint\u001b[39m(\u001b[38;5;124m\"\u001b[39m\u001b[38;5;124mPontos de destaque:\u001b[39m\u001b[38;5;124m\"\u001b[39m)\n",
      "File \u001b[1;32mC:\\Program Files\\WindowsApps\\PythonSoftwareFoundation.Python.3.10_3.10.3056.0_x64__qbz5n2kfra8p0\\lib\\json\\__init__.py:346\u001b[0m, in \u001b[0;36mloads\u001b[1;34m(s, cls, object_hook, parse_float, parse_int, parse_constant, object_pairs_hook, **kw)\u001b[0m\n\u001b[0;32m    341\u001b[0m     s \u001b[38;5;241m=\u001b[39m s\u001b[38;5;241m.\u001b[39mdecode(detect_encoding(s), \u001b[38;5;124m'\u001b[39m\u001b[38;5;124msurrogatepass\u001b[39m\u001b[38;5;124m'\u001b[39m)\n\u001b[0;32m    343\u001b[0m \u001b[38;5;28;01mif\u001b[39;00m (\u001b[38;5;28mcls\u001b[39m \u001b[38;5;129;01mis\u001b[39;00m \u001b[38;5;28;01mNone\u001b[39;00m \u001b[38;5;129;01mand\u001b[39;00m object_hook \u001b[38;5;129;01mis\u001b[39;00m \u001b[38;5;28;01mNone\u001b[39;00m \u001b[38;5;129;01mand\u001b[39;00m\n\u001b[0;32m    344\u001b[0m         parse_int \u001b[38;5;129;01mis\u001b[39;00m \u001b[38;5;28;01mNone\u001b[39;00m \u001b[38;5;129;01mand\u001b[39;00m parse_float \u001b[38;5;129;01mis\u001b[39;00m \u001b[38;5;28;01mNone\u001b[39;00m \u001b[38;5;129;01mand\u001b[39;00m\n\u001b[0;32m    345\u001b[0m         parse_constant \u001b[38;5;129;01mis\u001b[39;00m \u001b[38;5;28;01mNone\u001b[39;00m \u001b[38;5;129;01mand\u001b[39;00m object_pairs_hook \u001b[38;5;129;01mis\u001b[39;00m \u001b[38;5;28;01mNone\u001b[39;00m \u001b[38;5;129;01mand\u001b[39;00m \u001b[38;5;129;01mnot\u001b[39;00m kw):\n\u001b[1;32m--> 346\u001b[0m     \u001b[38;5;28;01mreturn\u001b[39;00m \u001b[43m_default_decoder\u001b[49m\u001b[38;5;241;43m.\u001b[39;49m\u001b[43mdecode\u001b[49m\u001b[43m(\u001b[49m\u001b[43ms\u001b[49m\u001b[43m)\u001b[49m\n\u001b[0;32m    347\u001b[0m \u001b[38;5;28;01mif\u001b[39;00m \u001b[38;5;28mcls\u001b[39m \u001b[38;5;129;01mis\u001b[39;00m \u001b[38;5;28;01mNone\u001b[39;00m:\n\u001b[0;32m    348\u001b[0m     \u001b[38;5;28mcls\u001b[39m \u001b[38;5;241m=\u001b[39m JSONDecoder\n",
      "File \u001b[1;32mC:\\Program Files\\WindowsApps\\PythonSoftwareFoundation.Python.3.10_3.10.3056.0_x64__qbz5n2kfra8p0\\lib\\json\\decoder.py:337\u001b[0m, in \u001b[0;36mJSONDecoder.decode\u001b[1;34m(self, s, _w)\u001b[0m\n\u001b[0;32m    332\u001b[0m \u001b[38;5;28;01mdef\u001b[39;00m\u001b[38;5;250m \u001b[39m\u001b[38;5;21mdecode\u001b[39m(\u001b[38;5;28mself\u001b[39m, s, _w\u001b[38;5;241m=\u001b[39mWHITESPACE\u001b[38;5;241m.\u001b[39mmatch):\n\u001b[0;32m    333\u001b[0m \u001b[38;5;250m    \u001b[39m\u001b[38;5;124;03m\"\"\"Return the Python representation of ``s`` (a ``str`` instance\u001b[39;00m\n\u001b[0;32m    334\u001b[0m \u001b[38;5;124;03m    containing a JSON document).\u001b[39;00m\n\u001b[0;32m    335\u001b[0m \n\u001b[0;32m    336\u001b[0m \u001b[38;5;124;03m    \"\"\"\u001b[39;00m\n\u001b[1;32m--> 337\u001b[0m     obj, end \u001b[38;5;241m=\u001b[39m \u001b[38;5;28;43mself\u001b[39;49m\u001b[38;5;241;43m.\u001b[39;49m\u001b[43mraw_decode\u001b[49m\u001b[43m(\u001b[49m\u001b[43ms\u001b[49m\u001b[43m,\u001b[49m\u001b[43m \u001b[49m\u001b[43midx\u001b[49m\u001b[38;5;241;43m=\u001b[39;49m\u001b[43m_w\u001b[49m\u001b[43m(\u001b[49m\u001b[43ms\u001b[49m\u001b[43m,\u001b[49m\u001b[43m \u001b[49m\u001b[38;5;241;43m0\u001b[39;49m\u001b[43m)\u001b[49m\u001b[38;5;241;43m.\u001b[39;49m\u001b[43mend\u001b[49m\u001b[43m(\u001b[49m\u001b[43m)\u001b[49m\u001b[43m)\u001b[49m\n\u001b[0;32m    338\u001b[0m     end \u001b[38;5;241m=\u001b[39m _w(s, end)\u001b[38;5;241m.\u001b[39mend()\n\u001b[0;32m    339\u001b[0m     \u001b[38;5;28;01mif\u001b[39;00m end \u001b[38;5;241m!=\u001b[39m \u001b[38;5;28mlen\u001b[39m(s):\n",
      "File \u001b[1;32mC:\\Program Files\\WindowsApps\\PythonSoftwareFoundation.Python.3.10_3.10.3056.0_x64__qbz5n2kfra8p0\\lib\\json\\decoder.py:355\u001b[0m, in \u001b[0;36mJSONDecoder.raw_decode\u001b[1;34m(self, s, idx)\u001b[0m\n\u001b[0;32m    353\u001b[0m     obj, end \u001b[38;5;241m=\u001b[39m \u001b[38;5;28mself\u001b[39m\u001b[38;5;241m.\u001b[39mscan_once(s, idx)\n\u001b[0;32m    354\u001b[0m \u001b[38;5;28;01mexcept\u001b[39;00m \u001b[38;5;167;01mStopIteration\u001b[39;00m \u001b[38;5;28;01mas\u001b[39;00m err:\n\u001b[1;32m--> 355\u001b[0m     \u001b[38;5;28;01mraise\u001b[39;00m JSONDecodeError(\u001b[38;5;124m\"\u001b[39m\u001b[38;5;124mExpecting value\u001b[39m\u001b[38;5;124m\"\u001b[39m, s, err\u001b[38;5;241m.\u001b[39mvalue) \u001b[38;5;28;01mfrom\u001b[39;00m\u001b[38;5;250m \u001b[39m\u001b[38;5;28;01mNone\u001b[39;00m\n\u001b[0;32m    356\u001b[0m \u001b[38;5;28;01mreturn\u001b[39;00m obj, end\n",
      "\u001b[1;31mJSONDecodeError\u001b[0m: Expecting value: line 1 column 1 (char 0)"
     ]
    }
   ],
   "source": [
    "# Converter a string para um dicionário Python\n",
    "dados = json.loads(teste)\n",
    "\n",
    "# Acessando os pontos de destaque\n",
    "print(\"Pontos de destaque:\")\n",
    "for ponto in dados['pontos_de_destaque']:\n",
    "    print(\"-\", ponto)\n",
    "\n",
    "# Acessando as perguntas de entrevista\n",
    "print(\"\\nPerguntas de entrevista:\")\n",
    "for pergunta in dados['perguntas_entrevista']:\n",
    "    print(\"-\", pergunta)"
   ]
  },
  {
   "cell_type": "code",
   "execution_count": null,
   "id": "f1ec605c",
   "metadata": {},
   "outputs": [],
   "source": []
  }
 ],
 "metadata": {
  "kernelspec": {
   "display_name": "venv",
   "language": "python",
   "name": "python3"
  },
  "language_info": {
   "codemirror_mode": {
    "name": "ipython",
    "version": 3
   },
   "file_extension": ".py",
   "mimetype": "text/x-python",
   "name": "python",
   "nbconvert_exporter": "python",
   "pygments_lexer": "ipython3",
   "version": "3.10.11"
  }
 },
 "nbformat": 4,
 "nbformat_minor": 5
}
